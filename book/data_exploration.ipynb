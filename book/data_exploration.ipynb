{
 "cells": [
  {
   "cell_type": "markdown",
   "id": "f7cdf320",
   "metadata": {},
   "source": [
    "# Data Exploration"
   ]
  },
  {
   "cell_type": "markdown",
   "id": "0e13ac97",
   "metadata": {},
   "source": [
    "## Import Libraries & Read In Data"
   ]
  },
  {
   "cell_type": "code",
   "execution_count": 2,
   "id": "8c8feca6",
   "metadata": {},
   "outputs": [],
   "source": [
    "import pandas as pd\n",
    "import numpy as np\n",
    "import matplotlib.pyplot as plt\n",
    "import pyreadr\n",
    "import itertools"
   ]
  },
  {
   "cell_type": "code",
   "execution_count": 3,
   "id": "68782680",
   "metadata": {},
   "outputs": [],
   "source": [
    "data = pyreadr.read_r('../data/IGTdata.rdata')"
   ]
  },
  {
   "cell_type": "markdown",
   "id": "bef2bafb",
   "metadata": {},
   "source": [
    "**Overview of dataset**"
   ]
  },
  {
   "cell_type": "code",
   "execution_count": 4,
   "id": "5671b202",
   "metadata": {},
   "outputs": [
    {
     "name": "stdout",
     "output_type": "stream",
     "text": [
      "DF NAME     | COLUMN NAMES                                             | ROW NAMES                     \n",
      "--------------------------------------------------------------------------------------------------------------\n",
      "choice_95   | Choice_1, Choice_2, Choice_3,...,Choice_94, Choice_95    | Subj_1, Subj_2,...,Subj_14, Subj_15\n",
      "wi_95       | Wins_1, Wins_2, Wins_3,...,Wins_94, Wins_95              | Subj_1, Subj_2,...,Subj_14, Subj_15\n",
      "lo_95       | Losses_1, Losses_2, Losses_3,...,Losses_94, Losses_95    | Subj_1, Subj_2,...,Subj_14, Subj_15\n",
      "index_95    | Subj, Study                                              | 0, 1,...,13, 14               \n",
      "choice_100  | Choice_1, Choice_2, Choice_3,...,Choice_99, Choice_100   | Subj_1, Subj_2,...,Subj_503, Subj_504\n",
      "wi_100      | Wins_1, Wins_2, Wins_3,...,Wins_99, Wins_100             | Subj_1, Subj_2,...,Subj_503, Subj_504\n",
      "lo_100      | Losses_1, Losses_2, Losses_3,...,Losses_99, Losses_100   | Subj_1, Subj_2,...,Subj_503, Subj_504\n",
      "index_100   | Subj, Study                                              | 0, 1,...,502, 503             \n",
      "choice_150  | Choice_1, Choice_2, Choice_3,...,Choice_149, Choice_150  | Subj_1, Subj_2,...,Subj_97, Subj_98\n",
      "wi_150      | Wins_1, Wins_2, Wins_3,...,Wins_149, Wins_150            | Subj_1, Subj_2,...,Subj_97, Subj_98\n",
      "lo_150      | Losses_1, Losses_2, Losses_3,...,Losses_149, Losses_150  | Subj_1, Subj_2,...,Subj_97, Subj_98\n",
      "index_150   | Subj, Study                                              | 0, 1,...,96, 97               \n"
     ]
    }
   ],
   "source": [
    "print(\"{:12}| {:57}| {:30}\".format('DF NAME','COLUMN NAMES','ROW NAMES'))\n",
    "print('-'*110)\n",
    "for key, value in data.items():\n",
    "    if value.shape[1] > 5:\n",
    "        column_names = ''.join([', '.join(value.columns[:3]), ',...,', ', '.join(value.columns[-2:])])\n",
    "    else:\n",
    "        column_names = ', '.join(value.columns)\n",
    "    row_names = [str(v) for v in list(value.index.values)]\n",
    "    row_names = ''.join([', '.join(row_names[:2]), ',...,',', '.join(row_names[-2:])])\n",
    "    print(\"{:12}| {:57}| {:30}\".format(key,column_names,row_names))"
   ]
  },
  {
   "cell_type": "markdown",
   "id": "f67a03aa",
   "metadata": {},
   "source": [
    "* The studies are grouped by the number of trials (t) completed; 95, 100 or 150. \n",
    "* For each group, there are 4 dataframes, where each row correspnds to a subject (s):\n",
    "  * choice_t : \n",
    "    * Entries are either 1, 2, 3 or 4 which correspond to deck A, B, C and D, respectively.\n",
    "    * Dimensionality is s x t. \n",
    "    * The entry of the second row and third column indicates the choice made by the second subject on the third trial.\n",
    "  * wi_t :\n",
    "    * Contains the win achieved as a result of each choice.\n",
    "    * Dimensionality is s x t. \n",
    "    * The entry of the second row and third column corresponds to the reward received by the second subject on third trial.\n",
    "  * lo_t :\n",
    "    * Contains the loss incurred as a result of each choice.\n",
    "    * Dimensionality is s x t. \n",
    "    * The entry of the second row and third column corresponds to the loss incurred by the second subject on third trial.\n",
    "  * index_t :\n",
    "    * Entries are the name of the first author of the study that reports the data name of the first author of the study that reports the data of the corresponding participant.\n",
    "    * Dimensionality is s x 2. \n",
    "    * The entry of the second row indicates which study the second subject participated in.\n",
    "    "
   ]
  },
  {
   "cell_type": "markdown",
   "id": "dbf5f546",
   "metadata": {},
   "source": [
    "## Data Cleaning & Validation"
   ]
  },
  {
   "cell_type": "markdown",
   "id": "9e75d006",
   "metadata": {},
   "source": [
    "**Update index_t row names for confirmity.**<br>\n",
    "All other dataframes have consistent row names of the form Subj_1, Subj_2, Subj_3 etc."
   ]
  },
  {
   "cell_type": "code",
   "execution_count": 5,
   "id": "9e74dfd9",
   "metadata": {},
   "outputs": [
    {
     "data": {
      "text/html": [
       "<div>\n",
       "<style scoped>\n",
       "    .dataframe tbody tr th:only-of-type {\n",
       "        vertical-align: middle;\n",
       "    }\n",
       "\n",
       "    .dataframe tbody tr th {\n",
       "        vertical-align: top;\n",
       "    }\n",
       "\n",
       "    .dataframe thead th {\n",
       "        text-align: right;\n",
       "    }\n",
       "</style>\n",
       "<table border=\"1\" class=\"dataframe\">\n",
       "  <thead>\n",
       "    <tr style=\"text-align: right;\">\n",
       "      <th></th>\n",
       "      <th>Study</th>\n",
       "    </tr>\n",
       "  </thead>\n",
       "  <tbody>\n",
       "    <tr>\n",
       "      <th>Subj_1</th>\n",
       "      <td>Steingroever2011</td>\n",
       "    </tr>\n",
       "    <tr>\n",
       "      <th>Subj_2</th>\n",
       "      <td>Steingroever2011</td>\n",
       "    </tr>\n",
       "    <tr>\n",
       "      <th>Subj_3</th>\n",
       "      <td>Steingroever2011</td>\n",
       "    </tr>\n",
       "    <tr>\n",
       "      <th>Subj_4</th>\n",
       "      <td>Steingroever2011</td>\n",
       "    </tr>\n",
       "    <tr>\n",
       "      <th>Subj_5</th>\n",
       "      <td>Steingroever2011</td>\n",
       "    </tr>\n",
       "  </tbody>\n",
       "</table>\n",
       "</div>"
      ],
      "text/plain": [
       "                   Study\n",
       "Subj_1  Steingroever2011\n",
       "Subj_2  Steingroever2011\n",
       "Subj_3  Steingroever2011\n",
       "Subj_4  Steingroever2011\n",
       "Subj_5  Steingroever2011"
      ]
     },
     "execution_count": 5,
     "metadata": {},
     "output_type": "execute_result"
    }
   ],
   "source": [
    "for key, value in data.items():\n",
    "    if not key[0:5] == 'index':\n",
    "        continue\n",
    "    data[key] = value.drop(columns=['Subj'])\n",
    "    data[key].index = ['Subj_'+str(i) for i in range(1,value.shape[0]+1)]\n",
    "data['index_150'].head()"
   ]
  },
  {
   "cell_type": "markdown",
   "id": "4fc16143",
   "metadata": {},
   "source": [
    " "
   ]
  },
  {
   "cell_type": "markdown",
   "id": "e53311d4",
   "metadata": {},
   "source": [
    "**Verify table 1 (include link  to it).** <br> {cite:t}`Steingroever_Fridberg_Horstmann_Kjome_Kumari_Lane_Maia_McClelland_Pachur_Premkumar` speculates that the sample size may be less than 617 due to \"missing data for one participant in {cite:t}`kjome_lane_schmitz_green_ma_prasla_swann_moeller_2010`, and for two participants in {cite:t}`Wood_Busemeyer_Koling_Cox_Davis_2005`\". According to table 1 (link again), there should be 19 participants in {cite:t}`kjome_lane_schmitz_green_ma_prasla_swann_moeller_2010` and 153 in {cite:t}`Wood_Busemeyer_Koling_Cox_Davis_2005`."
   ]
  },
  {
   "cell_type": "code",
   "execution_count": 6,
   "id": "13ee06ee",
   "metadata": {},
   "outputs": [
    {
     "name": "stdout",
     "output_type": "stream",
     "text": [
      "Total number of subjects: 617\n"
     ]
    }
   ],
   "source": [
    "print(\"Total number of subjects:\", data['choice_95'].shape[0] + data['choice_100'].shape[0] + data['choice_150'].shape[0])"
   ]
  },
  {
   "cell_type": "markdown",
   "id": "4e39919b",
   "metadata": {},
   "source": [
    "Appears in order, let's take a closer look to be sure."
   ]
  },
  {
   "cell_type": "code",
   "execution_count": 7,
   "id": "f935bb42",
   "metadata": {},
   "outputs": [
    {
     "name": "stdout",
     "output_type": "stream",
     "text": [
      "Subjects in Kjome study: 19\n",
      "Subjects in Wood study: 153\n"
     ]
    }
   ],
   "source": [
    "print(\"Subjects in Kjome study:\", len(data['index_100'][data['index_100']['Study'] == 'Kjome']))\n",
    "print(\"Subjects in Wood study:\", len(data['index_100'][data['index_100']['Study'] == 'Wood']))"
   ]
  },
  {
   "cell_type": "markdown",
   "id": "e9f90b30",
   "metadata": {},
   "source": [
    "Confirms correct number of subjects reported."
   ]
  },
  {
   "cell_type": "markdown",
   "id": "515139cf",
   "metadata": {},
   "source": [
    " "
   ]
  },
  {
   "cell_type": "markdown",
   "id": "e79a5e61",
   "metadata": {},
   "source": [
    "**Check for nulls/ unexpected entries**"
   ]
  },
  {
   "cell_type": "markdown",
   "id": "c35a6727",
   "metadata": {},
   "source": [
    "Sanity checking the dataframes for unusual entries, such as null values and unexpected data types. Additionally, confirming the dataframes are structured as expected, e.g. checking that all entries in lo_t are negative integers and that 1, 2, 3 and 4 are the only entries in choice_t."
   ]
  },
  {
   "cell_type": "code",
   "execution_count": 8,
   "id": "5e75ca2e",
   "metadata": {},
   "outputs": [
    {
     "name": "stdout",
     "output_type": "stream",
     "text": [
      "\u001b[1mUnique entries (and their frequency) in choice_95:\u001b[0m \n",
      "1.00 (13.12%), 2.00 (29.82%), 3.00 (13.61%), 4.00 (43.44%)\n",
      "\u001b[1mUnique entries (and their frequency) in wi_95:\u001b[0m \n",
      "50.00 (57.05%), 100.00 (42.95%)\n",
      "\u001b[1mUnique entries (and their frequency) in lo_95:\u001b[0m \n",
      "-1250.00 (3.23%), -350.00 (1.61%), -300.00 (1.19%), -250.00 (5.54%), -200.00 (1.12%), -150.00 (1.19%), -75.00 (0.56%), -50.00 (4.91%), -25.00 (0.98%), 0.00 (79.65%)\n",
      "\u001b[1mUnique entries (and their frequency) in index_95:\u001b[0m \n",
      "Fridberg\n",
      "\u001b[1mUnique entries (and their frequency) in choice_100:\u001b[0m \n",
      "1.00 (15.21%), 2.00 (30.98%), 3.00 (23.66%), 4.00 (30.14%)\n",
      "\u001b[1mUnique entries (and their frequency) in wi_100:\u001b[0m \n",
      "40.00 (3.60%), 45.00 (2.41%), 50.00 (34.28%), 55.00 (4.20%), 60.00 (3.41%), 65.00 (2.19%), 70.00 (1.71%), 75.00 (0.59%), 80.00 (2.58%), 85.00 (0.27%), 90.00 (2.74%), 95.00 (0.05%), 100.00 (31.80%), 110.00 (3.68%), 120.00 (3.62%), 130.00 (1.75%), 140.00 (0.79%), 150.00 (0.23%), 160.00 (0.08%), 170.00 (0.02%)\n",
      "\u001b[1mUnique entries (and their frequency) in lo_100:\u001b[0m \n",
      "-2500.00 (0.01%), -2250.00 (0.03%), -2000.00 (0.12%), -1750.00 (0.29%), -1500.00 (0.36%), -1250.00 (2.46%), -750.00 (0.00%), -375.00 (0.03%), -350.00 (1.71%), -325.00 (0.15%), -300.00 (1.78%), -275.00 (0.34%), -250.00 (3.93%), -200.00 (1.58%), -150.00 (1.45%), -75.00 (1.22%), -50.00 (9.03%), -25.00 (2.32%), 0.00 (73.19%)\n",
      "\u001b[1mUnique entries (and their frequency) in index_100:\u001b[0m \n",
      "Horstmann, Kjome, Maia, Premkumar, SteingroverInPrep, Wood, Worthy\n",
      "\u001b[1mUnique entries (and their frequency) in choice_150:\u001b[0m \n",
      "1.00 (12.95%), 2.00 (31.04%), 3.00 (28.02%), 4.00 (27.99%)\n",
      "\u001b[1mUnique entries (and their frequency) in wi_150:\u001b[0m \n",
      "50.00 (56.01%), 100.00 (43.99%)\n",
      "\u001b[1mUnique entries (and their frequency) in lo_150:\u001b[0m \n",
      "-1250.00 (3.11%), -350.00 (1.35%), -300.00 (1.25%), -250.00 (4.21%), -200.00 (1.30%), -150.00 (1.33%), -50.00 (14.07%), -0.00 (73.37%)\n",
      "\u001b[1mUnique entries (and their frequency) in index_150:\u001b[0m \n",
      "Steingroever2011, Wetzels\n"
     ]
    }
   ],
   "source": [
    "for key, value in data.items():\n",
    "    try:\n",
    "        uniq_entries = ', '.join([(\"{:.2f} ({:.2f}%)\".format(entry, count*100)) for entry, count in value.stack().value_counts(normalize=True).sort_index().iteritems()])\n",
    "    except:\n",
    "        uniq_entries = ', '.join([(\"{:}\".format(entry)) for entry, count in value.stack().value_counts().sort_index().iteritems()])\n",
    "\n",
    "    print(\"\\033[1mUnique entries (and their frequency) in {:}:\\033[0m \\n{:}\".format(key, uniq_entries))"
   ]
  },
  {
   "cell_type": "markdown",
   "id": "b22247b3",
   "metadata": {},
   "source": [
    "No unexpected entries."
   ]
  },
  {
   "cell_type": "markdown",
   "id": "7eb14993",
   "metadata": {},
   "source": [
    " "
   ]
  },
  {
   "cell_type": "markdown",
   "id": "6149a823",
   "metadata": {},
   "source": [
    "**Rename the columnns of choice_t, wi_t & lo_t for confirmity.**"
   ]
  },
  {
   "cell_type": "code",
   "execution_count": 9,
   "id": "b2fbeffa",
   "metadata": {},
   "outputs": [
    {
     "data": {
      "text/html": [
       "<div>\n",
       "<style scoped>\n",
       "    .dataframe tbody tr th:only-of-type {\n",
       "        vertical-align: middle;\n",
       "    }\n",
       "\n",
       "    .dataframe tbody tr th {\n",
       "        vertical-align: top;\n",
       "    }\n",
       "\n",
       "    .dataframe thead th {\n",
       "        text-align: right;\n",
       "    }\n",
       "</style>\n",
       "<table border=\"1\" class=\"dataframe\">\n",
       "  <thead>\n",
       "    <tr style=\"text-align: right;\">\n",
       "      <th></th>\n",
       "      <th>Trial_1</th>\n",
       "      <th>Trial_2</th>\n",
       "      <th>Trial_3</th>\n",
       "      <th>Trial_4</th>\n",
       "      <th>Trial_5</th>\n",
       "      <th>Trial_6</th>\n",
       "      <th>Trial_7</th>\n",
       "      <th>Trial_8</th>\n",
       "      <th>Trial_9</th>\n",
       "      <th>Trial_10</th>\n",
       "      <th>...</th>\n",
       "      <th>Trial_86</th>\n",
       "      <th>Trial_87</th>\n",
       "      <th>Trial_88</th>\n",
       "      <th>Trial_89</th>\n",
       "      <th>Trial_90</th>\n",
       "      <th>Trial_91</th>\n",
       "      <th>Trial_92</th>\n",
       "      <th>Trial_93</th>\n",
       "      <th>Trial_94</th>\n",
       "      <th>Trial_95</th>\n",
       "    </tr>\n",
       "  </thead>\n",
       "  <tbody>\n",
       "    <tr>\n",
       "      <th>Subj_1</th>\n",
       "      <td>2</td>\n",
       "      <td>2</td>\n",
       "      <td>2</td>\n",
       "      <td>2</td>\n",
       "      <td>2</td>\n",
       "      <td>2</td>\n",
       "      <td>2</td>\n",
       "      <td>2</td>\n",
       "      <td>2</td>\n",
       "      <td>1</td>\n",
       "      <td>...</td>\n",
       "      <td>4</td>\n",
       "      <td>4</td>\n",
       "      <td>4</td>\n",
       "      <td>4</td>\n",
       "      <td>4</td>\n",
       "      <td>4</td>\n",
       "      <td>4</td>\n",
       "      <td>4</td>\n",
       "      <td>4</td>\n",
       "      <td>4</td>\n",
       "    </tr>\n",
       "    <tr>\n",
       "      <th>Subj_2</th>\n",
       "      <td>1</td>\n",
       "      <td>2</td>\n",
       "      <td>3</td>\n",
       "      <td>2</td>\n",
       "      <td>2</td>\n",
       "      <td>2</td>\n",
       "      <td>2</td>\n",
       "      <td>2</td>\n",
       "      <td>2</td>\n",
       "      <td>2</td>\n",
       "      <td>...</td>\n",
       "      <td>3</td>\n",
       "      <td>1</td>\n",
       "      <td>1</td>\n",
       "      <td>1</td>\n",
       "      <td>2</td>\n",
       "      <td>2</td>\n",
       "      <td>3</td>\n",
       "      <td>4</td>\n",
       "      <td>4</td>\n",
       "      <td>3</td>\n",
       "    </tr>\n",
       "    <tr>\n",
       "      <th>Subj_3</th>\n",
       "      <td>3</td>\n",
       "      <td>4</td>\n",
       "      <td>3</td>\n",
       "      <td>2</td>\n",
       "      <td>2</td>\n",
       "      <td>1</td>\n",
       "      <td>1</td>\n",
       "      <td>1</td>\n",
       "      <td>1</td>\n",
       "      <td>2</td>\n",
       "      <td>...</td>\n",
       "      <td>2</td>\n",
       "      <td>2</td>\n",
       "      <td>2</td>\n",
       "      <td>4</td>\n",
       "      <td>4</td>\n",
       "      <td>4</td>\n",
       "      <td>4</td>\n",
       "      <td>4</td>\n",
       "      <td>4</td>\n",
       "      <td>4</td>\n",
       "    </tr>\n",
       "    <tr>\n",
       "      <th>Subj_4</th>\n",
       "      <td>4</td>\n",
       "      <td>3</td>\n",
       "      <td>1</td>\n",
       "      <td>1</td>\n",
       "      <td>1</td>\n",
       "      <td>2</td>\n",
       "      <td>2</td>\n",
       "      <td>3</td>\n",
       "      <td>2</td>\n",
       "      <td>2</td>\n",
       "      <td>...</td>\n",
       "      <td>2</td>\n",
       "      <td>3</td>\n",
       "      <td>3</td>\n",
       "      <td>3</td>\n",
       "      <td>3</td>\n",
       "      <td>3</td>\n",
       "      <td>3</td>\n",
       "      <td>4</td>\n",
       "      <td>4</td>\n",
       "      <td>4</td>\n",
       "    </tr>\n",
       "    <tr>\n",
       "      <th>Subj_5</th>\n",
       "      <td>1</td>\n",
       "      <td>2</td>\n",
       "      <td>3</td>\n",
       "      <td>4</td>\n",
       "      <td>3</td>\n",
       "      <td>1</td>\n",
       "      <td>1</td>\n",
       "      <td>2</td>\n",
       "      <td>2</td>\n",
       "      <td>2</td>\n",
       "      <td>...</td>\n",
       "      <td>3</td>\n",
       "      <td>3</td>\n",
       "      <td>4</td>\n",
       "      <td>4</td>\n",
       "      <td>3</td>\n",
       "      <td>4</td>\n",
       "      <td>4</td>\n",
       "      <td>4</td>\n",
       "      <td>4</td>\n",
       "      <td>4</td>\n",
       "    </tr>\n",
       "  </tbody>\n",
       "</table>\n",
       "<p>5 rows × 95 columns</p>\n",
       "</div>"
      ],
      "text/plain": [
       "        Trial_1  Trial_2  Trial_3  Trial_4  Trial_5  Trial_6  Trial_7  \\\n",
       "Subj_1        2        2        2        2        2        2        2   \n",
       "Subj_2        1        2        3        2        2        2        2   \n",
       "Subj_3        3        4        3        2        2        1        1   \n",
       "Subj_4        4        3        1        1        1        2        2   \n",
       "Subj_5        1        2        3        4        3        1        1   \n",
       "\n",
       "        Trial_8  Trial_9  Trial_10  ...  Trial_86  Trial_87  Trial_88  \\\n",
       "Subj_1        2        2         1  ...         4         4         4   \n",
       "Subj_2        2        2         2  ...         3         1         1   \n",
       "Subj_3        1        1         2  ...         2         2         2   \n",
       "Subj_4        3        2         2  ...         2         3         3   \n",
       "Subj_5        2        2         2  ...         3         3         4   \n",
       "\n",
       "        Trial_89  Trial_90  Trial_91  Trial_92  Trial_93  Trial_94  Trial_95  \n",
       "Subj_1         4         4         4         4         4         4         4  \n",
       "Subj_2         1         2         2         3         4         4         3  \n",
       "Subj_3         4         4         4         4         4         4         4  \n",
       "Subj_4         3         3         3         3         4         4         4  \n",
       "Subj_5         4         3         4         4         4         4         4  \n",
       "\n",
       "[5 rows x 95 columns]"
      ]
     },
     "execution_count": 9,
     "metadata": {},
     "output_type": "execute_result"
    }
   ],
   "source": [
    "for key,value in data.items():\n",
    "    if key[0:5] == 'index':\n",
    "        continue\n",
    "    data[key].columns = ['Trial_'+str(i) for i in range(1,value.shape[1]+1)]\n",
    "\n",
    "data['choice_95'].head()"
   ]
  },
  {
   "cell_type": "markdown",
   "id": "9604e758",
   "metadata": {},
   "source": [
    " "
   ]
  },
  {
   "cell_type": "markdown",
   "id": "29a74a93",
   "metadata": {},
   "source": [
    "**Make dataframe for net outcome of each trial.**"
   ]
  },
  {
   "cell_type": "code",
   "execution_count": 10,
   "id": "57c0a424",
   "metadata": {},
   "outputs": [
    {
     "data": {
      "text/html": [
       "<div>\n",
       "<style scoped>\n",
       "    .dataframe tbody tr th:only-of-type {\n",
       "        vertical-align: middle;\n",
       "    }\n",
       "\n",
       "    .dataframe tbody tr th {\n",
       "        vertical-align: top;\n",
       "    }\n",
       "\n",
       "    .dataframe thead th {\n",
       "        text-align: right;\n",
       "    }\n",
       "</style>\n",
       "<table border=\"1\" class=\"dataframe\">\n",
       "  <thead>\n",
       "    <tr style=\"text-align: right;\">\n",
       "      <th></th>\n",
       "      <th>Trial_1</th>\n",
       "      <th>Trial_2</th>\n",
       "      <th>Trial_3</th>\n",
       "      <th>Trial_4</th>\n",
       "      <th>Trial_5</th>\n",
       "      <th>Trial_6</th>\n",
       "      <th>Trial_7</th>\n",
       "      <th>Trial_8</th>\n",
       "      <th>Trial_9</th>\n",
       "      <th>Trial_10</th>\n",
       "      <th>...</th>\n",
       "      <th>Trial_91</th>\n",
       "      <th>Trial_92</th>\n",
       "      <th>Trial_93</th>\n",
       "      <th>Trial_94</th>\n",
       "      <th>Trial_95</th>\n",
       "      <th>Trial_96</th>\n",
       "      <th>Trial_97</th>\n",
       "      <th>Trial_98</th>\n",
       "      <th>Trial_99</th>\n",
       "      <th>Trial_100</th>\n",
       "    </tr>\n",
       "  </thead>\n",
       "  <tbody>\n",
       "    <tr>\n",
       "      <th>Subj_1</th>\n",
       "      <td>-100.0</td>\n",
       "      <td>-50.0</td>\n",
       "      <td>100.0</td>\n",
       "      <td>-200.0</td>\n",
       "      <td>50.0</td>\n",
       "      <td>100.0</td>\n",
       "      <td>100.0</td>\n",
       "      <td>100.0</td>\n",
       "      <td>50.0</td>\n",
       "      <td>100.0</td>\n",
       "      <td>...</td>\n",
       "      <td>100.0</td>\n",
       "      <td>100.0</td>\n",
       "      <td>-250.0</td>\n",
       "      <td>100.0</td>\n",
       "      <td>100.0</td>\n",
       "      <td>100.0</td>\n",
       "      <td>50.0</td>\n",
       "      <td>100.0</td>\n",
       "      <td>50.0</td>\n",
       "      <td>-1150.0</td>\n",
       "    </tr>\n",
       "    <tr>\n",
       "      <th>Subj_2</th>\n",
       "      <td>100.0</td>\n",
       "      <td>100.0</td>\n",
       "      <td>50.0</td>\n",
       "      <td>50.0</td>\n",
       "      <td>50.0</td>\n",
       "      <td>100.0</td>\n",
       "      <td>0.0</td>\n",
       "      <td>100.0</td>\n",
       "      <td>100.0</td>\n",
       "      <td>100.0</td>\n",
       "      <td>...</td>\n",
       "      <td>50.0</td>\n",
       "      <td>100.0</td>\n",
       "      <td>50.0</td>\n",
       "      <td>-200.0</td>\n",
       "      <td>-1150.0</td>\n",
       "      <td>50.0</td>\n",
       "      <td>50.0</td>\n",
       "      <td>100.0</td>\n",
       "      <td>100.0</td>\n",
       "      <td>50.0</td>\n",
       "    </tr>\n",
       "    <tr>\n",
       "      <th>Subj_3</th>\n",
       "      <td>50.0</td>\n",
       "      <td>100.0</td>\n",
       "      <td>0.0</td>\n",
       "      <td>-200.0</td>\n",
       "      <td>50.0</td>\n",
       "      <td>-1150.0</td>\n",
       "      <td>50.0</td>\n",
       "      <td>50.0</td>\n",
       "      <td>50.0</td>\n",
       "      <td>0.0</td>\n",
       "      <td>...</td>\n",
       "      <td>0.0</td>\n",
       "      <td>100.0</td>\n",
       "      <td>-100.0</td>\n",
       "      <td>50.0</td>\n",
       "      <td>100.0</td>\n",
       "      <td>100.0</td>\n",
       "      <td>100.0</td>\n",
       "      <td>50.0</td>\n",
       "      <td>100.0</td>\n",
       "      <td>100.0</td>\n",
       "    </tr>\n",
       "    <tr>\n",
       "      <th>Subj_4</th>\n",
       "      <td>-200.0</td>\n",
       "      <td>0.0</td>\n",
       "      <td>50.0</td>\n",
       "      <td>100.0</td>\n",
       "      <td>-100.0</td>\n",
       "      <td>50.0</td>\n",
       "      <td>50.0</td>\n",
       "      <td>100.0</td>\n",
       "      <td>100.0</td>\n",
       "      <td>-1150.0</td>\n",
       "      <td>...</td>\n",
       "      <td>50.0</td>\n",
       "      <td>100.0</td>\n",
       "      <td>50.0</td>\n",
       "      <td>50.0</td>\n",
       "      <td>0.0</td>\n",
       "      <td>50.0</td>\n",
       "      <td>100.0</td>\n",
       "      <td>50.0</td>\n",
       "      <td>0.0</td>\n",
       "      <td>50.0</td>\n",
       "    </tr>\n",
       "    <tr>\n",
       "      <th>Subj_5</th>\n",
       "      <td>100.0</td>\n",
       "      <td>100.0</td>\n",
       "      <td>100.0</td>\n",
       "      <td>-1150.0</td>\n",
       "      <td>100.0</td>\n",
       "      <td>0.0</td>\n",
       "      <td>50.0</td>\n",
       "      <td>100.0</td>\n",
       "      <td>50.0</td>\n",
       "      <td>100.0</td>\n",
       "      <td>...</td>\n",
       "      <td>100.0</td>\n",
       "      <td>100.0</td>\n",
       "      <td>100.0</td>\n",
       "      <td>-1150.0</td>\n",
       "      <td>50.0</td>\n",
       "      <td>50.0</td>\n",
       "      <td>50.0</td>\n",
       "      <td>0.0</td>\n",
       "      <td>50.0</td>\n",
       "      <td>50.0</td>\n",
       "    </tr>\n",
       "  </tbody>\n",
       "</table>\n",
       "<p>5 rows × 100 columns</p>\n",
       "</div>"
      ],
      "text/plain": [
       "        Trial_1  Trial_2  Trial_3  Trial_4  Trial_5  Trial_6  Trial_7  \\\n",
       "Subj_1   -100.0    -50.0    100.0   -200.0     50.0    100.0    100.0   \n",
       "Subj_2    100.0    100.0     50.0     50.0     50.0    100.0      0.0   \n",
       "Subj_3     50.0    100.0      0.0   -200.0     50.0  -1150.0     50.0   \n",
       "Subj_4   -200.0      0.0     50.0    100.0   -100.0     50.0     50.0   \n",
       "Subj_5    100.0    100.0    100.0  -1150.0    100.0      0.0     50.0   \n",
       "\n",
       "        Trial_8  Trial_9  Trial_10  ...  Trial_91  Trial_92  Trial_93  \\\n",
       "Subj_1    100.0     50.0     100.0  ...     100.0     100.0    -250.0   \n",
       "Subj_2    100.0    100.0     100.0  ...      50.0     100.0      50.0   \n",
       "Subj_3     50.0     50.0       0.0  ...       0.0     100.0    -100.0   \n",
       "Subj_4    100.0    100.0   -1150.0  ...      50.0     100.0      50.0   \n",
       "Subj_5    100.0     50.0     100.0  ...     100.0     100.0     100.0   \n",
       "\n",
       "        Trial_94  Trial_95  Trial_96  Trial_97  Trial_98  Trial_99  Trial_100  \n",
       "Subj_1     100.0     100.0     100.0      50.0     100.0      50.0    -1150.0  \n",
       "Subj_2    -200.0   -1150.0      50.0      50.0     100.0     100.0       50.0  \n",
       "Subj_3      50.0     100.0     100.0     100.0      50.0     100.0      100.0  \n",
       "Subj_4      50.0       0.0      50.0     100.0      50.0       0.0       50.0  \n",
       "Subj_5   -1150.0      50.0      50.0      50.0       0.0      50.0       50.0  \n",
       "\n",
       "[5 rows x 100 columns]"
      ]
     },
     "execution_count": 10,
     "metadata": {},
     "output_type": "execute_result"
    }
   ],
   "source": [
    "net_95 = data['wi_95'] + data['lo_95']\n",
    "net_100 = data['wi_100'] + data['lo_100']\n",
    "net_150 = data['wi_150'] + data['lo_150']\n",
    "net_100.head()"
   ]
  },
  {
   "cell_type": "markdown",
   "id": "928d6305",
   "metadata": {},
   "source": [
    "**Make dataframe for net cumulative outcome of each trial.**"
   ]
  },
  {
   "cell_type": "code",
   "execution_count": 11,
   "id": "80e00e0a",
   "metadata": {},
   "outputs": [
    {
     "data": {
      "text/html": [
       "<div>\n",
       "<style scoped>\n",
       "    .dataframe tbody tr th:only-of-type {\n",
       "        vertical-align: middle;\n",
       "    }\n",
       "\n",
       "    .dataframe tbody tr th {\n",
       "        vertical-align: top;\n",
       "    }\n",
       "\n",
       "    .dataframe thead th {\n",
       "        text-align: right;\n",
       "    }\n",
       "</style>\n",
       "<table border=\"1\" class=\"dataframe\">\n",
       "  <thead>\n",
       "    <tr style=\"text-align: right;\">\n",
       "      <th></th>\n",
       "      <th>Trial_1</th>\n",
       "      <th>Trial_2</th>\n",
       "      <th>Trial_3</th>\n",
       "      <th>Trial_4</th>\n",
       "      <th>Trial_5</th>\n",
       "      <th>Trial_6</th>\n",
       "      <th>Trial_7</th>\n",
       "      <th>Trial_8</th>\n",
       "      <th>Trial_9</th>\n",
       "      <th>Trial_10</th>\n",
       "      <th>...</th>\n",
       "      <th>Trial_141</th>\n",
       "      <th>Trial_142</th>\n",
       "      <th>Trial_143</th>\n",
       "      <th>Trial_144</th>\n",
       "      <th>Trial_145</th>\n",
       "      <th>Trial_146</th>\n",
       "      <th>Trial_147</th>\n",
       "      <th>Trial_148</th>\n",
       "      <th>Trial_149</th>\n",
       "      <th>Trial_150</th>\n",
       "    </tr>\n",
       "  </thead>\n",
       "  <tbody>\n",
       "    <tr>\n",
       "      <th>Subj_1</th>\n",
       "      <td>-200.0</td>\n",
       "      <td>-100.0</td>\n",
       "      <td>-350.0</td>\n",
       "      <td>-250.0</td>\n",
       "      <td>-200.0</td>\n",
       "      <td>-300.0</td>\n",
       "      <td>-250.0</td>\n",
       "      <td>-150.0</td>\n",
       "      <td>-100.0</td>\n",
       "      <td>-50.0</td>\n",
       "      <td>...</td>\n",
       "      <td>450.0</td>\n",
       "      <td>300.0</td>\n",
       "      <td>350.0</td>\n",
       "      <td>-800.0</td>\n",
       "      <td>-750.0</td>\n",
       "      <td>-650.0</td>\n",
       "      <td>-650.0</td>\n",
       "      <td>-550.0</td>\n",
       "      <td>-500.0</td>\n",
       "      <td>-550.0</td>\n",
       "    </tr>\n",
       "    <tr>\n",
       "      <th>Subj_2</th>\n",
       "      <td>-150.0</td>\n",
       "      <td>-400.0</td>\n",
       "      <td>-350.0</td>\n",
       "      <td>-300.0</td>\n",
       "      <td>-250.0</td>\n",
       "      <td>-150.0</td>\n",
       "      <td>-100.0</td>\n",
       "      <td>0.0</td>\n",
       "      <td>100.0</td>\n",
       "      <td>200.0</td>\n",
       "      <td>...</td>\n",
       "      <td>-500.0</td>\n",
       "      <td>-400.0</td>\n",
       "      <td>-300.0</td>\n",
       "      <td>-1450.0</td>\n",
       "      <td>-1350.0</td>\n",
       "      <td>-1550.0</td>\n",
       "      <td>-1750.0</td>\n",
       "      <td>-1700.0</td>\n",
       "      <td>-1700.0</td>\n",
       "      <td>-1600.0</td>\n",
       "    </tr>\n",
       "    <tr>\n",
       "      <th>Subj_3</th>\n",
       "      <td>100.0</td>\n",
       "      <td>150.0</td>\n",
       "      <td>250.0</td>\n",
       "      <td>300.0</td>\n",
       "      <td>250.0</td>\n",
       "      <td>-900.0</td>\n",
       "      <td>-850.0</td>\n",
       "      <td>-850.0</td>\n",
       "      <td>-1100.0</td>\n",
       "      <td>-1050.0</td>\n",
       "      <td>...</td>\n",
       "      <td>450.0</td>\n",
       "      <td>500.0</td>\n",
       "      <td>550.0</td>\n",
       "      <td>600.0</td>\n",
       "      <td>650.0</td>\n",
       "      <td>700.0</td>\n",
       "      <td>750.0</td>\n",
       "      <td>800.0</td>\n",
       "      <td>850.0</td>\n",
       "      <td>900.0</td>\n",
       "    </tr>\n",
       "    <tr>\n",
       "      <th>Subj_4</th>\n",
       "      <td>50.0</td>\n",
       "      <td>100.0</td>\n",
       "      <td>150.0</td>\n",
       "      <td>200.0</td>\n",
       "      <td>150.0</td>\n",
       "      <td>200.0</td>\n",
       "      <td>250.0</td>\n",
       "      <td>250.0</td>\n",
       "      <td>50.0</td>\n",
       "      <td>150.0</td>\n",
       "      <td>...</td>\n",
       "      <td>2000.0</td>\n",
       "      <td>2050.0</td>\n",
       "      <td>2100.0</td>\n",
       "      <td>2150.0</td>\n",
       "      <td>1950.0</td>\n",
       "      <td>2000.0</td>\n",
       "      <td>2050.0</td>\n",
       "      <td>2100.0</td>\n",
       "      <td>2150.0</td>\n",
       "      <td>2200.0</td>\n",
       "    </tr>\n",
       "    <tr>\n",
       "      <th>Subj_5</th>\n",
       "      <td>50.0</td>\n",
       "      <td>100.0</td>\n",
       "      <td>150.0</td>\n",
       "      <td>200.0</td>\n",
       "      <td>250.0</td>\n",
       "      <td>300.0</td>\n",
       "      <td>100.0</td>\n",
       "      <td>150.0</td>\n",
       "      <td>200.0</td>\n",
       "      <td>250.0</td>\n",
       "      <td>...</td>\n",
       "      <td>1700.0</td>\n",
       "      <td>1750.0</td>\n",
       "      <td>1800.0</td>\n",
       "      <td>1850.0</td>\n",
       "      <td>1900.0</td>\n",
       "      <td>1950.0</td>\n",
       "      <td>2000.0</td>\n",
       "      <td>2050.0</td>\n",
       "      <td>2100.0</td>\n",
       "      <td>1900.0</td>\n",
       "    </tr>\n",
       "  </tbody>\n",
       "</table>\n",
       "<p>5 rows × 150 columns</p>\n",
       "</div>"
      ],
      "text/plain": [
       "        Trial_1  Trial_2  Trial_3  Trial_4  Trial_5  Trial_6  Trial_7  \\\n",
       "Subj_1   -200.0   -100.0   -350.0   -250.0   -200.0   -300.0   -250.0   \n",
       "Subj_2   -150.0   -400.0   -350.0   -300.0   -250.0   -150.0   -100.0   \n",
       "Subj_3    100.0    150.0    250.0    300.0    250.0   -900.0   -850.0   \n",
       "Subj_4     50.0    100.0    150.0    200.0    150.0    200.0    250.0   \n",
       "Subj_5     50.0    100.0    150.0    200.0    250.0    300.0    100.0   \n",
       "\n",
       "        Trial_8  Trial_9  Trial_10  ...  Trial_141  Trial_142  Trial_143  \\\n",
       "Subj_1   -150.0   -100.0     -50.0  ...      450.0      300.0      350.0   \n",
       "Subj_2      0.0    100.0     200.0  ...     -500.0     -400.0     -300.0   \n",
       "Subj_3   -850.0  -1100.0   -1050.0  ...      450.0      500.0      550.0   \n",
       "Subj_4    250.0     50.0     150.0  ...     2000.0     2050.0     2100.0   \n",
       "Subj_5    150.0    200.0     250.0  ...     1700.0     1750.0     1800.0   \n",
       "\n",
       "        Trial_144  Trial_145  Trial_146  Trial_147  Trial_148  Trial_149  \\\n",
       "Subj_1     -800.0     -750.0     -650.0     -650.0     -550.0     -500.0   \n",
       "Subj_2    -1450.0    -1350.0    -1550.0    -1750.0    -1700.0    -1700.0   \n",
       "Subj_3      600.0      650.0      700.0      750.0      800.0      850.0   \n",
       "Subj_4     2150.0     1950.0     2000.0     2050.0     2100.0     2150.0   \n",
       "Subj_5     1850.0     1900.0     1950.0     2000.0     2050.0     2100.0   \n",
       "\n",
       "        Trial_150  \n",
       "Subj_1     -550.0  \n",
       "Subj_2    -1600.0  \n",
       "Subj_3      900.0  \n",
       "Subj_4     2200.0  \n",
       "Subj_5     1900.0  \n",
       "\n",
       "[5 rows x 150 columns]"
      ]
     },
     "execution_count": 11,
     "metadata": {},
     "output_type": "execute_result"
    }
   ],
   "source": [
    "cum_out_95 = net_95.cumsum(axis=1)\n",
    "cum_out_100 = net_100.cumsum(axis=1)\n",
    "cum_out_150 = net_150.cumsum(axis=1)\n",
    "cum_out_150.head()"
   ]
  },
  {
   "cell_type": "markdown",
   "id": "4778a71f",
   "metadata": {},
   "source": [
    "**Verify the good & bad decks.**"
   ]
  },
  {
   "cell_type": "markdown",
   "id": "5363ebee",
   "metadata": {},
   "source": [
    "As explained in the Introduction (add link), there are 2 advantageous decks and 2 disadvantageous decks. Let's verify that C and D are the good decks by checking the net outcome of each deck."
   ]
  },
  {
   "cell_type": "code",
   "execution_count": 12,
   "id": "a28af9a0",
   "metadata": {},
   "outputs": [
    {
     "name": "stdout",
     "output_type": "stream",
     "text": [
      "choice_95 net outcome \t| choice_100 net outcome | choice_150 net outcome\n",
      "-------------------------------------------------------------------------\n",
      "deck A:   -4950.00 \t| deck A: -239320.00 \t | deck A:  -52000.00\n",
      "deck B:  -15000.00 \t| deck B: -625400.00 \t | deck B: -114950.00\n",
      "deck C:    5250.00 \t| deck C:  315750.00 \t | deck C:  102500.00\n",
      "deck D:   15950.00 \t| deck D:  414405.00 \t | deck D:  101000.00\n"
     ]
    }
   ],
   "source": [
    "print(\"{:} \\t| {:} | {:}\".format('choice_95 net outcome', 'choice_100 net outcome', 'choice_150 net outcome'))\n",
    "print('-' * 73)\n",
    "\n",
    "decks = ['A', 'B', 'C', 'D']\n",
    "for i in range (1,5):\n",
    "    deck = decks[i-1]\n",
    "    out_95 = net_95[data['choice_95'].isin([i])].fillna(0).values.sum()\n",
    "    out_100 = net_100[data['choice_100'].isin([i])].fillna(0).values.sum()\n",
    "    out_150 = net_150[data['choice_150'].isin([i])].fillna(0).values.sum()\n",
    "        \n",
    "    print(\"deck {:}: {:10.2f} \\t| deck {:}: {:10.2f} \\t | deck {:}: {:10.2f}\".format(deck, out_95, deck, out_100, deck, out_150))"
   ]
  },
  {
   "cell_type": "markdown",
   "id": "7be3da5b",
   "metadata": {},
   "source": [
    "Decks A and B have negative net outcomes, while decks C and D have positive net outcome. Thus, confiriming that C and D are the good decks."
   ]
  },
  {
   "cell_type": "markdown",
   "id": "1899a274",
   "metadata": {},
   "source": [
    "## Data Exploration"
   ]
  },
  {
   "cell_type": "markdown",
   "id": "7bfcf512",
   "metadata": {},
   "source": [
    "**How many subjects made a profit?**"
   ]
  },
  {
   "cell_type": "code",
   "execution_count": 13,
   "id": "faeef493",
   "metadata": {},
   "outputs": [
    {
     "name": "stdout",
     "output_type": "stream",
     "text": [
      "95 Trial Variation:  7 subjects (or 46.67 %)\n",
      "100 Trial Variation: 208 subjects (or 41.27 %)\n",
      "150 Trial Variation: 62 subjects (or 63.27 %)\n"
     ]
    }
   ],
   "source": [
    "profiters_95 = len(cum_out_95.loc[cum_out_95.Trial_95 > 0])\n",
    "print('95 Trial Variation: ', profiters_95, 'subjects (or',round(profiters_95 / cum_out_95.shape[0] * 100,2), '%)')\n",
    "profiters_100 = len(cum_out_100.loc[cum_out_100.Trial_100 > 0])\n",
    "print('100 Trial Variation:', profiters_100, 'subjects (or',round(profiters_100 / cum_out_100.shape[0] * 100,2), '%)')\n",
    "profiters_150 = len(cum_out_150.loc[cum_out_150.Trial_150 > 0])\n",
    "print('150 Trial Variation:', profiters_150, 'subjects (or',round(profiters_150 / cum_out_150.shape[0] * 100,2), '%)')"
   ]
  },
  {
   "cell_type": "markdown",
   "id": "59acbd75",
   "metadata": {},
   "source": [
    "A higher percentange of subjects who completed 150 trials made a profit, than those who completed either 95 or 100 trials. The most obvious explanation for this, is that these subjects are afforded more trials to recognize the good decks and bad decks, and adjust their choices accordingly. Of course, there are other factors that could be responsible for this, such as the demographics of subjects or the environment of the study."
   ]
  },
  {
   "cell_type": "markdown",
   "id": "16bbd919",
   "metadata": {},
   "source": [
    "**How long does it take, on average, to identify the good decks?**"
   ]
  },
  {
   "cell_type": "markdown",
   "id": "a35ad696",
   "metadata": {},
   "source": [
    "Produce a graph that shows the frequency of the good and bad decks over the course of the game. To do this, compute the frequency for a rolling group of 10 trials, i.e. calculate the frequency the of the subset of the 10 previous choices."
   ]
  },
  {
   "cell_type": "code",
   "execution_count": 15,
   "id": "e0b43d22",
   "metadata": {},
   "outputs": [
    {
     "data": {
      "text/html": [
       "<div>\n",
       "<style scoped>\n",
       "    .dataframe tbody tr th:only-of-type {\n",
       "        vertical-align: middle;\n",
       "    }\n",
       "\n",
       "    .dataframe tbody tr th {\n",
       "        vertical-align: top;\n",
       "    }\n",
       "\n",
       "    .dataframe thead th {\n",
       "        text-align: right;\n",
       "    }\n",
       "</style>\n",
       "<table border=\"1\" class=\"dataframe\">\n",
       "  <thead>\n",
       "    <tr style=\"text-align: right;\">\n",
       "      <th></th>\n",
       "      <th>Trial_1</th>\n",
       "      <th>Trial_2</th>\n",
       "      <th>Trial_3</th>\n",
       "      <th>Trial_4</th>\n",
       "      <th>Trial_5</th>\n",
       "      <th>Trial_6</th>\n",
       "      <th>Trial_7</th>\n",
       "      <th>Trial_8</th>\n",
       "      <th>Trial_9</th>\n",
       "      <th>Trial_10</th>\n",
       "      <th>...</th>\n",
       "      <th>Trial_141</th>\n",
       "      <th>Trial_142</th>\n",
       "      <th>Trial_143</th>\n",
       "      <th>Trial_144</th>\n",
       "      <th>Trial_145</th>\n",
       "      <th>Trial_146</th>\n",
       "      <th>Trial_147</th>\n",
       "      <th>Trial_148</th>\n",
       "      <th>Trial_149</th>\n",
       "      <th>Trial_150</th>\n",
       "    </tr>\n",
       "  </thead>\n",
       "  <tbody>\n",
       "    <tr>\n",
       "      <th>Subj_1</th>\n",
       "      <td>&lt;NA&gt;</td>\n",
       "      <td>&lt;NA&gt;</td>\n",
       "      <td>&lt;NA&gt;</td>\n",
       "      <td>&lt;NA&gt;</td>\n",
       "      <td>&lt;NA&gt;</td>\n",
       "      <td>&lt;NA&gt;</td>\n",
       "      <td>&lt;NA&gt;</td>\n",
       "      <td>&lt;NA&gt;</td>\n",
       "      <td>&lt;NA&gt;</td>\n",
       "      <td>4</td>\n",
       "      <td>...</td>\n",
       "      <td>3</td>\n",
       "      <td>3</td>\n",
       "      <td>2</td>\n",
       "      <td>2</td>\n",
       "      <td>3</td>\n",
       "      <td>3</td>\n",
       "      <td>2</td>\n",
       "      <td>2</td>\n",
       "      <td>3</td>\n",
       "      <td>3</td>\n",
       "    </tr>\n",
       "    <tr>\n",
       "      <th>Subj_2</th>\n",
       "      <td>&lt;NA&gt;</td>\n",
       "      <td>&lt;NA&gt;</td>\n",
       "      <td>&lt;NA&gt;</td>\n",
       "      <td>&lt;NA&gt;</td>\n",
       "      <td>&lt;NA&gt;</td>\n",
       "      <td>&lt;NA&gt;</td>\n",
       "      <td>&lt;NA&gt;</td>\n",
       "      <td>&lt;NA&gt;</td>\n",
       "      <td>&lt;NA&gt;</td>\n",
       "      <td>3</td>\n",
       "      <td>...</td>\n",
       "      <td>0</td>\n",
       "      <td>0</td>\n",
       "      <td>0</td>\n",
       "      <td>0</td>\n",
       "      <td>0</td>\n",
       "      <td>1</td>\n",
       "      <td>1</td>\n",
       "      <td>2</td>\n",
       "      <td>2</td>\n",
       "      <td>2</td>\n",
       "    </tr>\n",
       "    <tr>\n",
       "      <th>Subj_3</th>\n",
       "      <td>&lt;NA&gt;</td>\n",
       "      <td>&lt;NA&gt;</td>\n",
       "      <td>&lt;NA&gt;</td>\n",
       "      <td>&lt;NA&gt;</td>\n",
       "      <td>&lt;NA&gt;</td>\n",
       "      <td>&lt;NA&gt;</td>\n",
       "      <td>&lt;NA&gt;</td>\n",
       "      <td>&lt;NA&gt;</td>\n",
       "      <td>&lt;NA&gt;</td>\n",
       "      <td>3</td>\n",
       "      <td>...</td>\n",
       "      <td>10</td>\n",
       "      <td>10</td>\n",
       "      <td>10</td>\n",
       "      <td>10</td>\n",
       "      <td>10</td>\n",
       "      <td>10</td>\n",
       "      <td>10</td>\n",
       "      <td>10</td>\n",
       "      <td>10</td>\n",
       "      <td>10</td>\n",
       "    </tr>\n",
       "    <tr>\n",
       "      <th>Subj_4</th>\n",
       "      <td>&lt;NA&gt;</td>\n",
       "      <td>&lt;NA&gt;</td>\n",
       "      <td>&lt;NA&gt;</td>\n",
       "      <td>&lt;NA&gt;</td>\n",
       "      <td>&lt;NA&gt;</td>\n",
       "      <td>&lt;NA&gt;</td>\n",
       "      <td>&lt;NA&gt;</td>\n",
       "      <td>&lt;NA&gt;</td>\n",
       "      <td>&lt;NA&gt;</td>\n",
       "      <td>5</td>\n",
       "      <td>...</td>\n",
       "      <td>7</td>\n",
       "      <td>7</td>\n",
       "      <td>7</td>\n",
       "      <td>8</td>\n",
       "      <td>9</td>\n",
       "      <td>10</td>\n",
       "      <td>10</td>\n",
       "      <td>10</td>\n",
       "      <td>10</td>\n",
       "      <td>10</td>\n",
       "    </tr>\n",
       "    <tr>\n",
       "      <th>Subj_5</th>\n",
       "      <td>&lt;NA&gt;</td>\n",
       "      <td>&lt;NA&gt;</td>\n",
       "      <td>&lt;NA&gt;</td>\n",
       "      <td>&lt;NA&gt;</td>\n",
       "      <td>&lt;NA&gt;</td>\n",
       "      <td>&lt;NA&gt;</td>\n",
       "      <td>&lt;NA&gt;</td>\n",
       "      <td>&lt;NA&gt;</td>\n",
       "      <td>&lt;NA&gt;</td>\n",
       "      <td>10</td>\n",
       "      <td>...</td>\n",
       "      <td>10</td>\n",
       "      <td>10</td>\n",
       "      <td>10</td>\n",
       "      <td>10</td>\n",
       "      <td>10</td>\n",
       "      <td>10</td>\n",
       "      <td>10</td>\n",
       "      <td>10</td>\n",
       "      <td>10</td>\n",
       "      <td>10</td>\n",
       "    </tr>\n",
       "  </tbody>\n",
       "</table>\n",
       "<p>5 rows × 150 columns</p>\n",
       "</div>"
      ],
      "text/plain": [
       "        Trial_1  Trial_2  Trial_3  Trial_4  Trial_5  Trial_6  Trial_7  \\\n",
       "Subj_1     <NA>     <NA>     <NA>     <NA>     <NA>     <NA>     <NA>   \n",
       "Subj_2     <NA>     <NA>     <NA>     <NA>     <NA>     <NA>     <NA>   \n",
       "Subj_3     <NA>     <NA>     <NA>     <NA>     <NA>     <NA>     <NA>   \n",
       "Subj_4     <NA>     <NA>     <NA>     <NA>     <NA>     <NA>     <NA>   \n",
       "Subj_5     <NA>     <NA>     <NA>     <NA>     <NA>     <NA>     <NA>   \n",
       "\n",
       "        Trial_8  Trial_9  Trial_10  ...  Trial_141  Trial_142  Trial_143  \\\n",
       "Subj_1     <NA>     <NA>         4  ...          3          3          2   \n",
       "Subj_2     <NA>     <NA>         3  ...          0          0          0   \n",
       "Subj_3     <NA>     <NA>         3  ...         10         10         10   \n",
       "Subj_4     <NA>     <NA>         5  ...          7          7          7   \n",
       "Subj_5     <NA>     <NA>        10  ...         10         10         10   \n",
       "\n",
       "        Trial_144  Trial_145  Trial_146  Trial_147  Trial_148  Trial_149  \\\n",
       "Subj_1          2          3          3          2          2          3   \n",
       "Subj_2          0          0          1          1          2          2   \n",
       "Subj_3         10         10         10         10         10         10   \n",
       "Subj_4          8          9         10         10         10         10   \n",
       "Subj_5         10         10         10         10         10         10   \n",
       "\n",
       "        Trial_150  \n",
       "Subj_1          3  \n",
       "Subj_2          2  \n",
       "Subj_3         10  \n",
       "Subj_4         10  \n",
       "Subj_5         10  \n",
       "\n",
       "[5 rows x 150 columns]"
      ]
     },
     "execution_count": 15,
     "metadata": {},
     "output_type": "execute_result"
    }
   ],
   "source": [
    "grouped_choices = {}\n",
    "for key, value in data.items():\n",
    "    if not key[0:6] == 'choice':\n",
    "        continue\n",
    "    for i in range(1,5):\n",
    "        grouped_choices[str('deck' + str(i) + '_' + key)] = value.T.rolling(10).apply(lambda x: x.isin([i]).fillna(0).values.sum()).astype('Int64').T\n",
    "grouped_choices['deck4_choice_150'].head()"
   ]
  },
  {
   "cell_type": "code",
   "execution_count": 116,
   "id": "2ea104e9",
   "metadata": {},
   "outputs": [
    {
     "data": {
      "image/png": "[encoded data removed]",
      "text/plain": [
       "<Figure size 432x288 with 1 Axes>"
      ]
     },
     "metadata": {
      "needs_background": "light"
     },
     "output_type": "display_data"
    },
    {
     "data": {
      "image/png": "[encoded data removed]",
      "text/plain": [
       "<Figure size 432x288 with 1 Axes>"
      ]
     },
     "metadata": {
      "needs_background": "light"
     },
     "output_type": "display_data"
    },
    {
     "data": {
      "image/png": "[encoded data removed]",
      "text/plain": [
       "<Figure size 432x288 with 1 Axes>"
      ]
     },
     "metadata": {
      "needs_background": "light"
     },
     "output_type": "display_data"
    }
   ],
   "source": [
    "grouped_keys = list(grouped_choices.keys())\n",
    "for i in range(0,3):\n",
    "    ind = i * 4\n",
    "    df_range = list(range(1, grouped_choices[grouped_keys[ind]].shape[1] + 1))\n",
    "    \n",
    "    fig = plt.figure()\n",
    "    ax = fig.gca()\n",
    "    plt.plot(df_range,(grouped_choices[grouped_keys[ind + 2]].fillna(0).mean() + grouped_choices[grouped_keys[ind + 3]].fillna(0).mean()) / 10 * 100, color = 'limegreen', label = 'good decks')\n",
    "    plt.plot(df_range,(grouped_choices[grouped_keys[ind]].fillna(0).mean() + grouped_choices[grouped_keys[ind + 1]].fillna(0).mean()) / 10 * 100, color = 'crimson', label = 'bad decks')\n",
    "    plt.xlabel('trial number', fontsize = 14)\n",
    "    plt.ylabel('frequency [%]', fontsize = 14)\n",
    "    fig.suptitle(grouped_keys[ind][-3:].strip('_') + ' Trial Variation - Avg Deck Selection', fontsize = 14)\n",
    "    plt.xlim(10, df_range[-1])\n",
    "    plt.ylim(0, 100)\n",
    "    plt.legend()\n",
    "    ax.xaxis.set_ticks(np.arange(10, df_range[-1] + 1, 20))\n",
    "    plt.grid()\n",
    "    plt.show()"
   ]
  },
  {
   "cell_type": "markdown",
   "id": "edccb7be",
   "metadata": {},
   "source": [
    "In the above graphs, the bad decks (deck A and B) are the most popular at the beginning. However, subjects appear to begin to recognize the bad decks (decks C and D) after approximately 13 trials, as the frequency of bad decks declines. For both, the 95 and 100 Trial Variations, the good decks overtake the bad decks after around 30 trials. On average, it appears to take the subjects of the 150 Trial Variation longer to recognize and tend towards the good decks, with the frequency of the good decks surpassing the bad deck after 57 trials. Interestingly, at the 90 trial mark, subjects in the 150 Trial Variation are selecting good decks with a similar or worse frequency to the subjects in the other 2 trial variations. Performance, for those in the 150 Trial Variation, continues to improve after 100 trials, with the gap between the green and red line increasing. This supports our earlier speculation of why a larger proportion of subjects made a profits in the 150 Trial Variation - they're more likely to identify the good and bad decks, as they do more repetitions of the task."
   ]
  },
  {
   "cell_type": "code",
   "execution_count": 117,
   "id": "853a4b2f",
   "metadata": {
    "scrolled": true
   },
   "outputs": [],
   "source": [
    "# pick out a good and bad player and show their individual graphs"
   ]
  },
  {
   "cell_type": "code",
   "execution_count": null,
   "id": "86ea5d29",
   "metadata": {},
   "outputs": [],
   "source": [
    "# maybe contrast payoff scheme 3 to the others -> if so add payoff scheme to study data frame"
   ]
  },
  {
   "cell_type": "code",
   "execution_count": null,
   "id": "65113660",
   "metadata": {},
   "outputs": [],
   "source": [
    "# prepare the data for clustering"
   ]
  },
  {
   "cell_type": "code",
   "execution_count": null,
   "id": "e1025676",
   "metadata": {},
   "outputs": [],
   "source": []
  },
  {
   "cell_type": "code",
   "execution_count": null,
   "id": "bb2012d2",
   "metadata": {},
   "outputs": [],
   "source": []
  },
  {
   "cell_type": "code",
   "execution_count": null,
   "id": "63ad1681",
   "metadata": {},
   "outputs": [],
   "source": []
  },
  {
   "cell_type": "code",
   "execution_count": null,
   "id": "72564b07",
   "metadata": {},
   "outputs": [],
   "source": []
  },
  {
   "cell_type": "code",
   "execution_count": null,
   "id": "af6a7b21",
   "metadata": {},
   "outputs": [],
   "source": []
  }
 ],
 "metadata": {
  "kernelspec": {
   "display_name": "Python 3",
   "language": "python",
   "name": "python3"
  },
  "language_info": {
   "codemirror_mode": {
    "name": "ipython",
    "version": 3
   },
   "file_extension": ".py",
   "mimetype": "text/x-python",
   "name": "python",
   "nbconvert_exporter": "python",
   "pygments_lexer": "ipython3",
   "version": "3.7.11"
  }
 },
 "nbformat": 4,
 "nbformat_minor": 5
}
