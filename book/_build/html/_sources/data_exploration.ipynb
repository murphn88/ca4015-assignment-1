{
 "cells": [
  {
   "cell_type": "markdown",
   "id": "f7cdf320",
   "metadata": {},
   "source": [
    "# Data Exploration"
   ]
  },
  {
   "cell_type": "markdown",
   "id": "0e13ac97",
   "metadata": {},
   "source": [
    "## Import Libraries & Read In Data"
   ]
  },
  {
   "cell_type": "code",
   "execution_count": 2,
   "id": "8c8feca6",
   "metadata": {},
   "outputs": [],
   "source": [
    "import pandas as pd\n",
    "import numpy as np\n",
    "import matplotlib.pyplot as plt\n",
    "import pyreadr\n",
    "import itertools"
   ]
  },
  {
   "cell_type": "code",
   "execution_count": 3,
   "id": "68782680",
   "metadata": {},
   "outputs": [],
   "source": [
    "data = pyreadr.read_r('../data/IGTdata.rdata')"
   ]
  },
  {
   "cell_type": "markdown",
   "id": "ff77a694",
   "metadata": {},
   "source": [
    "**Overview of dataset**"
   ]
  },
  {
   "cell_type": "code",
   "execution_count": 4,
   "id": "5671b202",
   "metadata": {},
   "outputs": [
    {
     "name": "stdout",
     "output_type": "stream",
     "text": [
      "DF NAME     | COLUMN NAMES                                             | ROW NAMES                     \n",
      "--------------------------------------------------------------------------------------------------------------\n",
      "choice_95   | Choice_1, Choice_2, Choice_3,...,Choice_94, Choice_95    | Subj_1, Subj_2,...,Subj_14, Subj_15\n",
      "wi_95       | Wins_1, Wins_2, Wins_3,...,Wins_94, Wins_95              | Subj_1, Subj_2,...,Subj_14, Subj_15\n",
      "lo_95       | Losses_1, Losses_2, Losses_3,...,Losses_94, Losses_95    | Subj_1, Subj_2,...,Subj_14, Subj_15\n",
      "index_95    | Subj, Study                                              | 0, 1,...,13, 14               \n",
      "choice_100  | Choice_1, Choice_2, Choice_3,...,Choice_99, Choice_100   | Subj_1, Subj_2,...,Subj_503, Subj_504\n",
      "wi_100      | Wins_1, Wins_2, Wins_3,...,Wins_99, Wins_100             | Subj_1, Subj_2,...,Subj_503, Subj_504\n",
      "lo_100      | Losses_1, Losses_2, Losses_3,...,Losses_99, Losses_100   | Subj_1, Subj_2,...,Subj_503, Subj_504\n",
      "index_100   | Subj, Study                                              | 0, 1,...,502, 503             \n",
      "choice_150  | Choice_1, Choice_2, Choice_3,...,Choice_149, Choice_150  | Subj_1, Subj_2,...,Subj_97, Subj_98\n",
      "wi_150      | Wins_1, Wins_2, Wins_3,...,Wins_149, Wins_150            | Subj_1, Subj_2,...,Subj_97, Subj_98\n",
      "lo_150      | Losses_1, Losses_2, Losses_3,...,Losses_149, Losses_150  | Subj_1, Subj_2,...,Subj_97, Subj_98\n",
      "index_150   | Subj, Study                                              | 0, 1,...,96, 97               \n"
     ]
    }
   ],
   "source": [
    "print(\"{:12}| {:57}| {:30}\".format('DF NAME','COLUMN NAMES','ROW NAMES'))\n",
    "print('-'*110)\n",
    "for key, value in data.items():\n",
    "    if value.shape[1] > 5:\n",
    "        column_names = ''.join([', '.join(value.columns[:3]), ',...,', ', '.join(value.columns[-2:])])\n",
    "    else:\n",
    "        column_names = ', '.join(value.columns)\n",
    "    row_names = [str(v) for v in list(value.index.values)]\n",
    "    row_names = ''.join([', '.join(row_names[:2]), ',...,',', '.join(row_names[-2:])])\n",
    "    print(\"{:12}| {:57}| {:30}\".format(key,column_names,row_names))"
   ]
  },
  {
   "cell_type": "markdown",
   "id": "55e55a8a",
   "metadata": {},
   "source": [
    "* The studies are grouped by the number of trials (t) completed; 95, 100 or 150. \n",
    "* For each group, there are 4 data frames, where each row correspnds to a subject (s):\n",
    "  * choice_t : \n",
    "    * Entries are either 1, 2, 3 or 4 which correspond to deck A, B, C and D, respectively.\n",
    "    * Dimensionality is s x t. \n",
    "    * The entry of the second row and third column indicates the choice made by the second subject on the third trial.\n",
    "  * wi_t :\n",
    "    * Contains the win achieved as a result of each choice.\n",
    "    * Dimensionality is s x t. \n",
    "    * The entry of the second row and third column corresponds to the reward received by the second subject on third trial.\n",
    "  * lo_t :\n",
    "    * Contains the loss incurred as a result of each choice.\n",
    "    * Dimensionality is s x t. \n",
    "    * The entry of the second row and third column corresponds to the loss incurred by the second subject on third trial.\n",
    "  * index_t :\n",
    "    * Entries are the name of the first author of the study that reports the data name of the first author of the study that reports the data of the corresponding participant.\n",
    "    * Dimensionality is s x 2. \n",
    "    * The entry of the second row indicates which study the second subject participated in.\n",
    "    "
   ]
  },
  {
   "cell_type": "markdown",
   "id": "6f739a13",
   "metadata": {},
   "source": [
    "## Data Cleaning & Validation"
   ]
  },
  {
   "cell_type": "markdown",
   "id": "d014e54c",
   "metadata": {},
   "source": [
    "**Update index_t row names for confirmity.**<br>\n",
    "All other data frames have consistent row names of the form Subj_1, Subj_2, Subj_3 etc."
   ]
  },
  {
   "cell_type": "code",
   "execution_count": 5,
   "id": "ae73989a",
   "metadata": {},
   "outputs": [
    {
     "data": {
      "text/html": [
       "<div>\n",
       "<style scoped>\n",
       "    .dataframe tbody tr th:only-of-type {\n",
       "        vertical-align: middle;\n",
       "    }\n",
       "\n",
       "    .dataframe tbody tr th {\n",
       "        vertical-align: top;\n",
       "    }\n",
       "\n",
       "    .dataframe thead th {\n",
       "        text-align: right;\n",
       "    }\n",
       "</style>\n",
       "<table border=\"1\" class=\"dataframe\">\n",
       "  <thead>\n",
       "    <tr style=\"text-align: right;\">\n",
       "      <th></th>\n",
       "      <th>Study</th>\n",
       "    </tr>\n",
       "  </thead>\n",
       "  <tbody>\n",
       "    <tr>\n",
       "      <th>Subj_1</th>\n",
       "      <td>Steingroever2011</td>\n",
       "    </tr>\n",
       "    <tr>\n",
       "      <th>Subj_2</th>\n",
       "      <td>Steingroever2011</td>\n",
       "    </tr>\n",
       "    <tr>\n",
       "      <th>Subj_3</th>\n",
       "      <td>Steingroever2011</td>\n",
       "    </tr>\n",
       "    <tr>\n",
       "      <th>Subj_4</th>\n",
       "      <td>Steingroever2011</td>\n",
       "    </tr>\n",
       "    <tr>\n",
       "      <th>Subj_5</th>\n",
       "      <td>Steingroever2011</td>\n",
       "    </tr>\n",
       "  </tbody>\n",
       "</table>\n",
       "</div>"
      ],
      "text/plain": [
       "                   Study\n",
       "Subj_1  Steingroever2011\n",
       "Subj_2  Steingroever2011\n",
       "Subj_3  Steingroever2011\n",
       "Subj_4  Steingroever2011\n",
       "Subj_5  Steingroever2011"
      ]
     },
     "execution_count": 5,
     "metadata": {},
     "output_type": "execute_result"
    }
   ],
   "source": [
    "for key, value in data.items():\n",
    "        if not key[0:5] == 'index':\n",
    "            continue\n",
    "        data[key] = value.drop(columns=['Subj'])\n",
    "        data[key].index = ['Subj_'+str(i) for i in range(1,value.shape[0]+1)]\n",
    "data['index_150'].head()"
   ]
  },
  {
   "cell_type": "markdown",
   "id": "247076be",
   "metadata": {},
   "source": [
    " "
   ]
  },
  {
   "cell_type": "markdown",
   "id": "f60fecf0",
   "metadata": {},
   "source": [
    "**Verify table 1 (include link  to it).** <br> cite:t}`Steingroever_Fridberg_Horstmann_Kjome_Kumari_Lane_Maia_McClelland_Pachur_Premkumar` speculates that the sample size may be less than 617 due to \"missing data for one participant in {cite:t}`kjome_lane_schmitz_green_ma_prasla_swann_moeller_2010`, and for two participants in {cite:t}`Wood_Busemeyer_Koling_Cox_Davis_2005`\". According to table 1 (link again), there should be 19 participants in {cite:t}`kjome_lane_schmitz_green_ma_prasla_swann_moeller_2010` and 153 in {cite:t}`Wood_Busemeyer_Koling_Cox_Davis_2005`."
   ]
  },
  {
   "cell_type": "code",
   "execution_count": 26,
   "id": "d51f3763",
   "metadata": {},
   "outputs": [
    {
     "name": "stdout",
     "output_type": "stream",
     "text": [
      "Total number of subjects: 617\n"
     ]
    }
   ],
   "source": [
    "print(\"Total number of subjects:\", data['choice_95'].shape[0] + data['choice_100'].shape[0] + data['choice_150'].shape[0])"
   ]
  },
  {
   "cell_type": "markdown",
   "id": "f2865213",
   "metadata": {},
   "source": [
    "Appears in order, let's take a closer look to be sure."
   ]
  },
  {
   "cell_type": "code",
   "execution_count": 23,
   "id": "7448b30a",
   "metadata": {},
   "outputs": [
    {
     "name": "stdout",
     "output_type": "stream",
     "text": [
      "Subjects in Kjome study: 19\n",
      "Subjects in Wood study: 153\n"
     ]
    }
   ],
   "source": [
    "print(\"Subjects in Kjome study:\", len(data['index_100'][data['index_100']['Study'] == 'Kjome']))\n",
    "print(\"Subjects in Wood study:\", len(data['index_100'][data['index_100']['Study'] == 'Wood']))"
   ]
  },
  {
   "cell_type": "markdown",
   "id": "2ce24a18",
   "metadata": {},
   "source": [
    "Confirms correct number of subjects reported."
   ]
  },
  {
   "cell_type": "markdown",
   "id": "b9850317",
   "metadata": {},
   "source": [
    " "
   ]
  },
  {
   "cell_type": "markdown",
   "id": "be429a96",
   "metadata": {},
   "source": [
    "**Check for nulls/ unexpected entries**"
   ]
  },
  {
   "cell_type": "markdown",
   "id": "a23e5f8b",
   "metadata": {},
   "source": [
    "Sanity checking the data frames for unusual entries, such as null values and unexpected data types. Additionally, confirming the data frames are structured as expected, e.g. checking that all entries in lo_t are negative integers and that 1, 2, 3 and 4 are the only entries in choice_t."
   ]
  },
  {
   "cell_type": "code",
   "execution_count": 219,
   "id": "3ef7df43",
   "metadata": {},
   "outputs": [
    {
     "name": "stdout",
     "output_type": "stream",
     "text": [
      "\u001b[1mUnique entries (and their frequency) in choice_95:\u001b[0m \n",
      "1.00 (13.12%), 2.00 (29.82%), 3.00 (13.61%), 4.00 (43.44%)\n",
      "\u001b[1mUnique entries (and their frequency) in wi_95:\u001b[0m \n",
      "50.00 (57.05%), 100.00 (42.95%)\n",
      "\u001b[1mUnique entries (and their frequency) in lo_95:\u001b[0m \n",
      "-1250.00 (3.23%), -350.00 (1.61%), -300.00 (1.19%), -250.00 (5.54%), -200.00 (1.12%), -150.00 (1.19%), -75.00 (0.56%), -50.00 (4.91%), -25.00 (0.98%), 0.00 (79.65%)\n",
      "\u001b[1mUnique entries (and their frequency) in index_95:\u001b[0m \n",
      "Fridberg\n",
      "\u001b[1mUnique entries (and their frequency) in choice_100:\u001b[0m \n",
      "1.00 (15.21%), 2.00 (30.98%), 3.00 (23.66%), 4.00 (30.14%)\n",
      "\u001b[1mUnique entries (and their frequency) in wi_100:\u001b[0m \n",
      "40.00 (3.60%), 45.00 (2.41%), 50.00 (34.28%), 55.00 (4.20%), 60.00 (3.41%), 65.00 (2.19%), 70.00 (1.71%), 75.00 (0.59%), 80.00 (2.58%), 85.00 (0.27%), 90.00 (2.74%), 95.00 (0.05%), 100.00 (31.80%), 110.00 (3.68%), 120.00 (3.62%), 130.00 (1.75%), 140.00 (0.79%), 150.00 (0.23%), 160.00 (0.08%), 170.00 (0.02%)\n",
      "\u001b[1mUnique entries (and their frequency) in lo_100:\u001b[0m \n",
      "-2500.00 (0.01%), -2250.00 (0.03%), -2000.00 (0.12%), -1750.00 (0.29%), -1500.00 (0.36%), -1250.00 (2.46%), -750.00 (0.00%), -375.00 (0.03%), -350.00 (1.71%), -325.00 (0.15%), -300.00 (1.78%), -275.00 (0.34%), -250.00 (3.93%), -200.00 (1.58%), -150.00 (1.45%), -75.00 (1.22%), -50.00 (9.03%), -25.00 (2.32%), 0.00 (73.19%)\n",
      "\u001b[1mUnique entries (and their frequency) in index_100:\u001b[0m \n",
      "Horstmann, Kjome, Maia, Premkumar, SteingroverInPrep, Wood, Worthy\n",
      "\u001b[1mUnique entries (and their frequency) in choice_150:\u001b[0m \n",
      "1.00 (12.95%), 2.00 (31.04%), 3.00 (28.02%), 4.00 (27.99%)\n",
      "\u001b[1mUnique entries (and their frequency) in wi_150:\u001b[0m \n",
      "50.00 (56.01%), 100.00 (43.99%)\n",
      "\u001b[1mUnique entries (and their frequency) in lo_150:\u001b[0m \n",
      "-1250.00 (3.11%), -350.00 (1.35%), -300.00 (1.25%), -250.00 (4.21%), -200.00 (1.30%), -150.00 (1.33%), -50.00 (14.07%), -0.00 (73.37%)\n",
      "\u001b[1mUnique entries (and their frequency) in index_150:\u001b[0m \n",
      "Steingroever2011, Wetzels\n"
     ]
    }
   ],
   "source": [
    "for key, value in data.items():\n",
    "    try:\n",
    "        uniq_entries = ', '.join([(\"{:.2f} ({:.2f}%)\".format(entry, count*100)) for entry, count in value.stack().value_counts(normalize=True).sort_index().iteritems()])\n",
    "    except:\n",
    "        uniq_entries = ', '.join([(\"{:}\".format(entry)) for entry, count in value.stack().value_counts().sort_index().iteritems()])\n",
    "\n",
    "    print(\"\\033[1mUnique entries (and their frequency) in {:}:\\033[0m \\n{:}\".format(key, uniq_entries))"
   ]
  },
  {
   "cell_type": "markdown",
   "id": "1cfe1fe8",
   "metadata": {},
   "source": [
    "No unexpected entries."
   ]
  },
  {
   "cell_type": "code",
   "execution_count": null,
   "id": "17595fd5",
   "metadata": {},
   "outputs": [],
   "source": []
  },
  {
   "cell_type": "code",
   "execution_count": null,
   "id": "54596c62",
   "metadata": {},
   "outputs": [],
   "source": [
    "# data preparation section\n",
    "# df for win - loss (outcome of each trial)\n",
    "# cumulative profit/loss"
   ]
  },
  {
   "cell_type": "code",
   "execution_count": null,
   "id": "33666979",
   "metadata": {},
   "outputs": [],
   "source": []
  },
  {
   "cell_type": "code",
   "execution_count": null,
   "id": "906609a4",
   "metadata": {},
   "outputs": [],
   "source": [
    "# maybe contrast payoff scheme 3 -> if so add payoff scheme to study data frame"
   ]
  },
  {
   "cell_type": "code",
   "execution_count": null,
   "id": "bfa17a1d",
   "metadata": {},
   "outputs": [],
   "source": [
    "# verify good/bad decks\n",
    "# when do players develop a tendency/aversion to certain decks -> do they correctly identify them"
   ]
  }
 ],
 "metadata": {
  "kernelspec": {
   "display_name": "Python 3",
   "language": "python",
   "name": "python3"
  },
  "language_info": {
   "codemirror_mode": {
    "name": "ipython",
    "version": 3
   },
   "file_extension": ".py",
   "mimetype": "text/x-python",
   "name": "python",
   "nbconvert_exporter": "python",
   "pygments_lexer": "ipython3",
   "version": "3.7.11"
  }
 },
 "nbformat": 4,
 "nbformat_minor": 5
}
