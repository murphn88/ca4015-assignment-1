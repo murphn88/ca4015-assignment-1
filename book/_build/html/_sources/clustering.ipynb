{
 "cells": [
  {
   "cell_type": "markdown",
   "metadata": {},
   "source": [
    "# Clustering"
   ]
  },
  {
   "cell_type": "markdown",
   "metadata": {},
   "source": [
    "Clustering is an unsupervised learning technique that divides the entire dataset into groups, or clusters, based on patterns in the data."
   ]
  },
  {
   "cell_type": "markdown",
   "metadata": {},
   "source": [
    "**K-means algorithm**"
   ]
  },
  {
   "cell_type": "markdown",
   "metadata": {},
   "source": [
    "K-means clustering is one of the simplest and most popular machine learning algorithms. K-means groups the data into a defined number (k) of clusters.   \n",
    "k-means algorithm:"
   ]
  },
  {
   "cell_type": "markdown",
   "metadata": {},
   "source": [
    "1. Specify the number of clusters k\n",
    "2. Select k random points from the data as the initial centroids\n",
    "3. Allocate all other points to the nearest cluster centroid\n",
    "4. Recompute the centroids of the new clusters\n",
    "5. Repeat steps 3 and 4, until either:\n",
    "  -  the centroids have stabilized (don't change between interations) or\n",
    "  - the maximum number of iterations have completed"
   ]
  },
  {
   "cell_type": "markdown",
   "metadata": {},
   "source": [
    "## Import Libraries & Read In Data"
   ]
  },
  {
   "cell_type": "code",
   "execution_count": 21,
   "metadata": {},
   "outputs": [],
   "source": [
    "import pandas as pd\n",
    "import numpy as np\n",
    "import matplotlib.pyplot as plt\n",
    "from sklearn.cluster import KMeans\n",
    "from kneed import KneeLocator\n",
    "from sklearn.metrics import silhouette_score"
   ]
  },
  {
   "cell_type": "code",
   "execution_count": 4,
   "metadata": {},
   "outputs": [
    {
     "data": {
      "text/html": [
       "<div>\n",
       "<style scoped>\n",
       "    .dataframe tbody tr th:only-of-type {\n",
       "        vertical-align: middle;\n",
       "    }\n",
       "\n",
       "    .dataframe tbody tr th {\n",
       "        vertical-align: top;\n",
       "    }\n",
       "\n",
       "    .dataframe thead th {\n",
       "        text-align: right;\n",
       "    }\n",
       "</style>\n",
       "<table border=\"1\" class=\"dataframe\">\n",
       "  <thead>\n",
       "    <tr style=\"text-align: right;\">\n",
       "      <th></th>\n",
       "      <th>Study</th>\n",
       "      <th>PayScheme</th>\n",
       "      <th>Trials</th>\n",
       "      <th>FreqGoodDecks</th>\n",
       "      <th>AhaMoment</th>\n",
       "      <th>CumOutTrial95</th>\n",
       "      <th>NetOut</th>\n",
       "    </tr>\n",
       "  </thead>\n",
       "  <tbody>\n",
       "    <tr>\n",
       "      <th>Subj_1</th>\n",
       "      <td>Fridberg</td>\n",
       "      <td>1</td>\n",
       "      <td>-0.698836</td>\n",
       "      <td>1.421697</td>\n",
       "      <td>-1.982720</td>\n",
       "      <td>1.248889</td>\n",
       "      <td>1.044988</td>\n",
       "    </tr>\n",
       "    <tr>\n",
       "      <th>Subj_2</th>\n",
       "      <td>Fridberg</td>\n",
       "      <td>1</td>\n",
       "      <td>-0.698836</td>\n",
       "      <td>-0.412875</td>\n",
       "      <td>0.962299</td>\n",
       "      <td>-0.361638</td>\n",
       "      <td>-0.414346</td>\n",
       "    </tr>\n",
       "    <tr>\n",
       "      <th>Subj_3</th>\n",
       "      <td>Fridberg</td>\n",
       "      <td>1</td>\n",
       "      <td>-0.698836</td>\n",
       "      <td>-0.223092</td>\n",
       "      <td>-0.351633</td>\n",
       "      <td>-0.427824</td>\n",
       "      <td>-0.474318</td>\n",
       "    </tr>\n",
       "    <tr>\n",
       "      <th>Subj_4</th>\n",
       "      <td>Fridberg</td>\n",
       "      <td>1</td>\n",
       "      <td>-0.698836</td>\n",
       "      <td>-0.096570</td>\n",
       "      <td>-0.351633</td>\n",
       "      <td>-0.229266</td>\n",
       "      <td>-0.294400</td>\n",
       "    </tr>\n",
       "    <tr>\n",
       "      <th>Subj_5</th>\n",
       "      <td>Fridberg</td>\n",
       "      <td>1</td>\n",
       "      <td>-0.698836</td>\n",
       "      <td>0.599302</td>\n",
       "      <td>-0.532865</td>\n",
       "      <td>0.322284</td>\n",
       "      <td>0.205371</td>\n",
       "    </tr>\n",
       "  </tbody>\n",
       "</table>\n",
       "</div>"
      ],
      "text/plain": [
       "           Study  PayScheme    Trials  FreqGoodDecks  AhaMoment  \\\n",
       "Subj_1  Fridberg          1 -0.698836       1.421697  -1.982720   \n",
       "Subj_2  Fridberg          1 -0.698836      -0.412875   0.962299   \n",
       "Subj_3  Fridberg          1 -0.698836      -0.223092  -0.351633   \n",
       "Subj_4  Fridberg          1 -0.698836      -0.096570  -0.351633   \n",
       "Subj_5  Fridberg          1 -0.698836       0.599302  -0.532865   \n",
       "\n",
       "        CumOutTrial95    NetOut  \n",
       "Subj_1       1.248889  1.044988  \n",
       "Subj_2      -0.361638 -0.414346  \n",
       "Subj_3      -0.427824 -0.474318  \n",
       "Subj_4      -0.229266 -0.294400  \n",
       "Subj_5       0.322284  0.205371  "
      ]
     },
     "execution_count": 4,
     "metadata": {},
     "output_type": "execute_result"
    }
   ],
   "source": [
    "processed_df = pd.read_csv('../data/processed.csv', index_col=0)\n",
    "processed_df.head()                        "
   ]
  },
  {
   "cell_type": "markdown",
   "metadata": {},
   "source": [
    "## Choosing the Number of Clusters"
   ]
  },
  {
   "cell_type": "markdown",
   "metadata": {},
   "source": [
    "To choose an appropiate number of clusters, we will use two common methods, the elbow method and the silhouette coefficient. "
   ]
  },
  {
   "cell_type": "markdown",
   "metadata": {},
   "source": [
    "### The Elbow Method"
   ]
  },
  {
   "cell_type": "markdown",
   "metadata": {},
   "source": [
    "Involves running several k-means, incrementing k with each iteration, and note the Sum of the Squared Error (SSE) each time."
   ]
  },
  {
   "cell_type": "code",
   "execution_count": 18,
   "metadata": {},
   "outputs": [
    {
     "data": {
      "image/png": "[encoded data removed]",
      "text/plain": [
       "<Figure size 864x432 with 1 Axes>"
      ]
     },
     "metadata": {
      "needs_background": "light"
     },
     "output_type": "display_data"
    }
   ],
   "source": [
    "# fitting multiple k-means algorithms and storing the values in an empty list\n",
    "SSE = []\n",
    "for cluster in range(1,15):\n",
    "    kmeans = KMeans(n_clusters = cluster, init='k-means++')\n",
    "    kmeans.fit(processed_df.iloc[:,2:])\n",
    "    SSE.append(kmeans.inertia_)\n",
    "\n",
    "# converting the results into a dataframe and plotting them\n",
    "frame = pd.DataFrame({'Cluster':range(1,15), 'SSE':SSE})\n",
    "plt.figure(figsize=(12,6))\n",
    "plt.plot(frame['Cluster'], frame['SSE'], marker='o', lw=2)\n",
    "plt.xlabel('Number of clusters', fontsize = 14)\n",
    "plt.ylabel('Inertia', fontsize = 14)\n",
    "plt.grid()\n",
    "plt.show()"
   ]
  },
  {
   "cell_type": "markdown",
   "metadata": {},
   "source": [
    "Inertia decreases as the number of clusters increase. We're looking for the sweet spot (elbow point) where the curve starts to bend. Here, the elbow looks to be located at k = 2."
   ]
  },
  {
   "cell_type": "markdown",
   "metadata": {},
   "source": [
    "**Confirm Elbow using kneed**"
   ]
  },
  {
   "cell_type": "code",
   "execution_count": 24,
   "metadata": {},
   "outputs": [
    {
     "name": "stdout",
     "output_type": "stream",
     "text": [
      "Elbow at k = 4\n"
     ]
    }
   ],
   "source": [
    "kl = KneeLocator(range(1, 15), SSE, curve=\"convex\", direction=\"decreasing\")\n",
    "print('Elbow at k = ' + str(kl.elbow))"
   ]
  },
  {
   "cell_type": "markdown",
   "metadata": {},
   "source": [
    "### The Silhouettee coefficient"
   ]
  },
  {
   "cell_type": "code",
   "execution_count": null,
   "metadata": {},
   "outputs": [],
   "source": []
  }
 ],
 "metadata": {
  "kernelspec": {
   "display_name": "Python 3",
   "language": "python",
   "name": "python3"
  },
  "language_info": {
   "codemirror_mode": {
    "name": "ipython",
    "version": 3
   },
   "file_extension": ".py",
   "mimetype": "text/x-python",
   "name": "python",
   "nbconvert_exporter": "python",
   "pygments_lexer": "ipython3",
   "version": "3.7.11"
  },
  "widgets": {
   "application/vnd.jupyter.widget-state+json": {
    "state": {},
    "version_major": 2,
    "version_minor": 0
   }
  }
 },
 "nbformat": 4,
 "nbformat_minor": 4
}
